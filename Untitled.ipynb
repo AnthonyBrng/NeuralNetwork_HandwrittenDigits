{
 "cells": [
  {
   "cell_type": "code",
   "execution_count": 63,
   "metadata": {},
   "outputs": [],
   "source": [
    "import numpy\n",
    "import scipy.special\n",
    "import matplotlib.pyplot\n",
    "%matplotlib inline\n",
    "\n",
    "\n",
    "# Classdefinition\n",
    "# Neuralnetwork with 1 inputlayer, 1 hiddenlayer and 1 output layer\n",
    "class NeuralNetwork:\n",
    "    \n",
    "    # initializing the neural network\n",
    "    def __init__(self, input_nodes, hidden_nodes, output_nodes, learning_rate):\n",
    "        \n",
    "        # number of nodes in each layer & learningrate\n",
    "        self.i_nodes = input_nodes\n",
    "        self.h_nodes = hidden_nodes\n",
    "        self.o_nodes = output_nodes\n",
    "        self.learn_rate = learning_rate\n",
    "        self.activation_function = lambda x: scipy.special.expit(x)\n",
    "        \n",
    "        # weightmatrices-defintion between diffrent layers\n",
    "        # randomvalues between - 1/squareroot(hnodes) AND + 1/squareroot(hnodes)\n",
    "        # (change pow(i_nodes) to pow(h_nodes) maybe)\n",
    "        self.wih = numpy.random.normal(0.0, pow(self.i_nodes,-0.5),(self.h_nodes,self.i_nodes))\n",
    "        self.who = numpy.random.normal(0.0, pow(self.h_nodes,-0.5),(self.o_nodes,self.h_nodes))\n",
    "        pass\n",
    "    \n",
    "    \n",
    "    #train the network\n",
    "    def train(self, inputs, targets):\n",
    "        \n",
    "        # transforms input_array into a 2dimensional array\n",
    "        inputs = numpy.array(inputs,ndmin=2).T\n",
    "        targets = numpy.array(targets, ndmin=2).T\n",
    "        \n",
    "        # calculating the output\n",
    "        hidden_value = numpy.dot(self.wih, inputs) \n",
    "        hidden_output = self.activation_function(hidden_value)\n",
    "        \n",
    "        output_value = numpy.dot(self.who, hidden_output)\n",
    "        final_output = self.activation_function(output_value)\n",
    "\n",
    "        # calculating the error (output layer) (target - actual) \n",
    "        output_errors = targets - final_output\n",
    "        \n",
    "        #calculating error (hidden layer) \n",
    "        hidden_errors = numpy.dot(self.who.T,output_errors)\n",
    "        \n",
    "        #updating the weights\n",
    "        self.who += self.learn_rate * numpy.dot(output_errors * final_output * (1.0 - final_output), hidden_output.T)\n",
    "        self.wih += self.learn_rate * numpy.dot(hidden_errors * hidden_output * (1.0 - hidden_output), inputs.T)\n",
    "        \n",
    "       \n",
    "        pass\n",
    "    \n",
    "    \n",
    "    # Asking the network for an output\n",
    "    def query(self, inputs):\n",
    "        \n",
    "        hidden_value = numpy.dot(self.wih, inputs) \n",
    "        hidden_output = self.activation_function(hidden_value)\n",
    "        \n",
    "        output_value = numpy.dot(self.who, hidden_output)\n",
    "        final_output = self.activation_function(output_value)\n",
    "        \n",
    "        print(self.wih) \n",
    "        return final_output\n",
    "        \n",
    "    \n",
    "    pass"
   ]
  },
  {
   "cell_type": "code",
   "execution_count": 64,
   "metadata": {},
   "outputs": [],
   "source": [
    "#Parameters\n",
    "inodes = 784\n",
    "hnodes = 100\n",
    "onodes = 10\n",
    "learning_rate = 0.3\n",
    "\n",
    "# initializing\n",
    "Anton = NeuralNetwork(inodes, hnodes, onodes, learning_rate)\n",
    "\n"
   ]
  },
  {
   "cell_type": "code",
   "execution_count": 65,
   "metadata": {},
   "outputs": [
    {
     "name": "stdout",
     "output_type": "stream",
     "text": [
      "Fertig\n"
     ]
    }
   ],
   "source": [
    "#loading data\n",
    "training_file = open(\"mnist_testdata/mnist_train_60k.csv\")\n",
    "training_datalist = training_file.readlines()\n",
    "training_file.close()\n",
    "\n",
    "# train the network\n",
    "for data in training_datalist:\n",
    "    \n",
    "    data_values = data.split(',')\n",
    "    scaled_input = (numpy.asfarray(data_values[1:]) /255.0 * 0.99) + 0.01\n",
    "    target = numpy.zeros(onodes) + 0.01\n",
    "    target[int(data_values[0])] = 0.99\n",
    "    \n",
    "    Anton.train(scaled_input, target)\n",
    "    \n",
    "    pass\n",
    "\n",
    "print('Fertig')"
   ]
  },
  {
   "cell_type": "code",
   "execution_count": 66,
   "metadata": {},
   "outputs": [
    {
     "name": "stdout",
     "output_type": "stream",
     "text": [
      "[[ 0.06071932 -0.05774166 -0.08641197 ...,  0.02548762  0.02349915\n",
      "   0.0900424 ]\n",
      " [-0.01381368  0.00854765 -0.03620338 ...,  0.02223349 -0.02365404\n",
      "   0.00636809]\n",
      " [ 0.01929598 -0.03121998 -0.03718988 ..., -0.06322483 -0.06476503\n",
      "  -0.01445911]\n",
      " ..., \n",
      " [-0.03586695  0.02401259  0.05735992 ..., -0.00798914 -0.06821609\n",
      "   0.05452165]\n",
      " [-0.02400209  0.01917385 -0.0228745  ...,  0.00810501 -0.00166403\n",
      "  -0.01428858]\n",
      " [-0.02003806 -0.02188889  0.01861356 ..., -0.03963436  0.00232323\n",
      "   0.03555428]]\n"
     ]
    },
    {
     "data": {
      "image/png": "[encoded data removed]",
      "text/plain": [
       "<matplotlib.figure.Figure at 0x11b3060f0>"
      ]
     },
     "metadata": {},
     "output_type": "display_data"
    }
   ],
   "source": [
    "# Query Anton\n",
    "test_file = open(\"mnist_testdata/mnist_test_10k.csv\")\n",
    "test_datalist = test_file.readlines()\n",
    "test_file.close()\n",
    "\n",
    "scoreboard = numpy.zeros(len(test_datalist))\n",
    "i = 0\n",
    "\n",
    "# test the network\n",
    "#for data in test_datalist:\n",
    "if True:\n",
    "    data = test_datalist[999] \n",
    "    data_values = data.split(',')\n",
    "    scaled_input = (numpy.asfarray(data_values[1:]) /255.0 * 0.99) + 0.01\n",
    "    \n",
    "    answer = Anton.query(scaled_input)\n",
    "    \n",
    "    \n",
    "    \n",
    "    \n",
    "    image_array= numpy.asfarray(data_values[1:]).reshape((28,28))\n",
    "    matplotlib.pyplot.imshow(image_array, cmap='Greys')\n",
    "    \n",
    "    #if (int(data_values[0])==numpy.argmax(answer)):\n",
    "    #    scoreboard[i] = 1\n",
    "    #else:\n",
    "    #    scoreboard[i] = 0\n",
    "    #    pass\n",
    "    \n",
    "    #i+=1\n",
    "    \n",
    "    \n",
    "    \n",
    "    pass\n",
    "\n",
    "#print(\"Anton hat \", numpy.sum(scoreboard) , \" von \", len(test_datalist), \"richtig\")\n",
    "#print(\"Das entpsricht \" , numpy.sum(scoreboard)/float(len(test_datalist))*100, \"%\" )"
   ]
  },
  {
   "cell_type": "code",
   "execution_count": 55,
   "metadata": {},
   "outputs": [
    {
     "name": "stdout",
     "output_type": "stream",
     "text": [
      "Anton sagt es ist:  9\n"
     ]
    }
   ],
   "source": [
    "print(\"Anton sagt es ist: \", numpy.argmax(answer))"
   ]
  },
  {
   "cell_type": "code",
   "execution_count": 48,
   "metadata": {},
   "outputs": [
    {
     "data": {
      "text/plain": [
       "4.2e-45"
      ]
     },
     "execution_count": 48,
     "metadata": {},
     "output_type": "execute_result"
    }
   ],
   "source": [
    "4.2e-45"
   ]
  },
  {
   "cell_type": "code",
   "execution_count": null,
   "metadata": {},
   "outputs": [],
   "source": []
  }
 ],
 "metadata": {
  "kernelspec": {
   "display_name": "Python 3",
   "language": "python",
   "name": "python3"
  },
  "language_info": {
   "codemirror_mode": {
    "name": "ipython",
    "version": 3
   },
   "file_extension": ".py",
   "mimetype": "text/x-python",
   "name": "python",
   "nbconvert_exporter": "python",
   "pygments_lexer": "ipython3",
   "version": "3.6.1"
  }
 },
 "nbformat": 4,
 "nbformat_minor": 2
}
